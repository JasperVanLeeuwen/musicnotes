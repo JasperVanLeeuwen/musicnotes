{
 "cells": [
  {
   "cell_type": "markdown",
   "id": "23b971cb",
   "metadata": {},
   "source": [
    "## help on writing \"guitar\" \n",
    "https://github.com/dmpayton/python-fretboard is used to generate guitar drawings"
   ]
  },
  {
   "cell_type": "code",
   "execution_count": 1,
   "id": "dc57aa93",
   "metadata": {},
   "outputs": [],
   "source": [
    "import fretboard\n",
    "from musicnotes.utils import show\n",
    "from musicnotes.musicnotes import Guitar"
   ]
  },
  {
   "cell_type": "code",
   "execution_count": 2,
   "id": "617d7f7d",
   "metadata": {},
   "outputs": [],
   "source": [
    "%load_ext autoreload\n",
    "%autoreload 2"
   ]
  },
  {
   "cell_type": "markdown",
   "id": "4ef03591",
   "metadata": {},
   "source": [
    "## chords"
   ]
  },
  {
   "cell_type": "code",
   "execution_count": 3,
   "id": "74c73b0d",
   "metadata": {},
   "outputs": [
    {
     "data": {
      "image/svg+xml": [
       "<svg xmlns=\"http://www.w3.org/2000/svg\" xmlns:xlink=\"http://www.w3.org/1999/xlink\" xmlns:ev=\"http://www.w3.org/2001/xml-events\" width=\"250\" height=\"300\" baseProfile=\"full\" version=\"1.1\"><defs/><rect fill=\"white\" x=\"0\" y=\"0\" width=\"250\" height=\"300\"/><line stroke=\"darkgray\" stroke-width=\"2\" x1=\"30\" y1=\"99.0\" x2=\"212.5\" y2=\"99.0\"/><line stroke=\"darkgray\" stroke-width=\"2\" x1=\"30\" y1=\"143.0\" x2=\"212.5\" y2=\"143.0\"/><line stroke=\"darkgray\" stroke-width=\"2\" x1=\"30\" y1=\"187.0\" x2=\"212.5\" y2=\"187.0\"/><line stroke=\"darkgray\" stroke-width=\"2\" x1=\"30\" y1=\"231.0\" x2=\"212.5\" y2=\"231.0\"/><line stroke=\"darkgray\" stroke-width=\"2\" x1=\"30\" y1=\"275.0\" x2=\"212.5\" y2=\"275.0\"/><circle fill=\"black\" cx=\"22\" cy=\"165.0\" r=\"2\"/><circle fill=\"black\" cx=\"22\" cy=\"253.0\" r=\"2\"/><line stroke=\"darkslategray\" stroke-width=\"3.0\" x1=\"31.5\" y1=\"45.0\" x2=\"31.5\" y2=\"285.0\"/><line stroke=\"darkslategray\" stroke-width=\"2.6666666666666665\" x1=\"66.5\" y1=\"45.0\" x2=\"66.5\" y2=\"285.0\"/><line stroke=\"darkslategray\" stroke-width=\"2.3333333333333335\" x1=\"103.0\" y1=\"45.0\" x2=\"103.0\" y2=\"285.0\"/><line stroke=\"darkslategray\" stroke-width=\"2.0\" x1=\"139.5\" y1=\"45.0\" x2=\"139.5\" y2=\"285.0\"/><line stroke=\"darkslategray\" stroke-width=\"1.6666666666666667\" x1=\"176.0\" y1=\"45.0\" x2=\"176.0\" y2=\"285.0\"/><line stroke=\"darkslategray\" stroke-width=\"1.3333333333333335\" x1=\"211.83333333333334\" y1=\"45.0\" x2=\"211.83333333333334\" y2=\"285.0\"/><line stroke=\"darkslategray\" stroke-width=\"10\" x1=\"30\" y1=\"50.0\" x2=\"212.5\" y2=\"50.0\"/><circle fill=\"dodgerblue\" stroke=\"darkslategray\" stroke-width=\"2\" cx=\"212.5\" cy=\"77.0\" r=\"12\"/><circle fill=\"dodgerblue\" stroke=\"darkslategray\" stroke-width=\"2\" cx=\"212.5\" cy=\"165.0\" r=\"12\"/><circle fill=\"dodgerblue\" stroke=\"darkslategray\" stroke-width=\"2\" cx=\"176.0\" cy=\"77.0\" r=\"12\"/><circle fill=\"dodgerblue\" stroke=\"darkslategray\" stroke-width=\"2\" cx=\"176.0\" cy=\"121.0\" r=\"12\"/><circle fill=\"dodgerblue\" stroke=\"darkslategray\" stroke-width=\"2\" cx=\"139.5\" cy=\"77.0\" r=\"12\"/><circle fill=\"dodgerblue\" stroke=\"darkslategray\" stroke-width=\"2\" cx=\"139.5\" cy=\"253.0\" r=\"12\"/><circle fill=\"dodgerblue\" stroke=\"darkslategray\" stroke-width=\"2\" cx=\"103.0\" cy=\"77.0\" r=\"12\"/><circle fill=\"dodgerblue\" stroke=\"darkslategray\" stroke-width=\"2\" cx=\"103.0\" cy=\"165.0\" r=\"12\"/><circle fill=\"dodgerblue\" stroke=\"darkslategray\" stroke-width=\"2\" cx=\"66.5\" cy=\"77.0\" r=\"12\"/><circle fill=\"dodgerblue\" stroke=\"darkslategray\" stroke-width=\"2\" cx=\"66.5\" cy=\"165.0\" r=\"12\"/><circle fill=\"dodgerblue\" stroke=\"darkslategray\" stroke-width=\"2\" cx=\"30.0\" cy=\"77.0\" r=\"12\"/><circle fill=\"dodgerblue\" stroke=\"darkslategray\" stroke-width=\"2\" cx=\"30.0\" cy=\"209.0\" r=\"12\"/></svg>"
      ],
      "text/plain": [
       "<IPython.core.display.SVG object>"
      ]
     },
     "metadata": {},
     "output_type": "display_data"
    }
   ],
   "source": [
    "guitar = Guitar()\n",
    "guitar.press([[1,4],[1,3],[1,3],[1,5],[1,2],[1,3]]).show()"
   ]
  },
  {
   "cell_type": "code",
   "execution_count": 20,
   "id": "f392a4a9",
   "metadata": {},
   "outputs": [
    {
     "ename": "NameError",
     "evalue": "name 'chord' is not defined",
     "output_type": "error",
     "traceback": [
      "\u001b[1;31m---------------------------------------------------------------------------\u001b[0m",
      "\u001b[1;31mNameError\u001b[0m                                 Traceback (most recent call last)",
      "Cell \u001b[1;32mIn [20], line 1\u001b[0m\n\u001b[1;32m----> 1\u001b[0m show(chord)\n",
      "\u001b[1;31mNameError\u001b[0m: name 'chord' is not defined"
     ]
    }
   ],
   "source": [
    "show(chord)"
   ]
  },
  {
   "cell_type": "markdown",
   "id": "493f00e6",
   "metadata": {},
   "source": [
    "## Scales"
   ]
  },
  {
   "cell_type": "code",
   "execution_count": 6,
   "id": "dfcea76b",
   "metadata": {},
   "outputs": [
    {
     "data": {
      "image/svg+xml": [
       "<svg xmlns=\"http://www.w3.org/2000/svg\" xmlns:xlink=\"http://www.w3.org/1999/xlink\" xmlns:ev=\"http://www.w3.org/2001/xml-events\" width=\"250\" height=\"300\" baseProfile=\"full\" version=\"1.1\"><defs/><rect fill=\"white\" x=\"0\" y=\"0\" width=\"250\" height=\"300\"/><line stroke=\"darkgray\" stroke-width=\"2\" x1=\"30\" y1=\"55.0\" x2=\"212.5\" y2=\"55.0\"/><line stroke=\"darkgray\" stroke-width=\"2\" x1=\"30\" y1=\"110.0\" x2=\"212.5\" y2=\"110.0\"/><line stroke=\"darkgray\" stroke-width=\"2\" x1=\"30\" y1=\"165.0\" x2=\"212.5\" y2=\"165.0\"/><line stroke=\"darkgray\" stroke-width=\"2\" x1=\"30\" y1=\"220.0\" x2=\"212.5\" y2=\"220.0\"/><line stroke=\"darkgray\" stroke-width=\"2\" x1=\"30\" y1=\"275.0\" x2=\"212.5\" y2=\"275.0\"/><circle fill=\"black\" cx=\"22\" cy=\"82.5\" r=\"2\"/><circle fill=\"black\" cx=\"22\" cy=\"192.5\" r=\"2\"/><text font-family=\"Lato\" font-size=\"15\" font-style=\"italic\" font-weight=\"bold\" fill=\"dimgray\" text-anchor=\"start\" x=\"214.5\" y=\"58.0\">4fr</text><line stroke=\"darkslategray\" stroke-width=\"3.0\" x1=\"31.5\" y1=\"45.0\" x2=\"31.5\" y2=\"285.0\"/><line stroke=\"darkslategray\" stroke-width=\"2.6666666666666665\" x1=\"66.5\" y1=\"45.0\" x2=\"66.5\" y2=\"285.0\"/><line stroke=\"darkslategray\" stroke-width=\"2.3333333333333335\" x1=\"103.0\" y1=\"45.0\" x2=\"103.0\" y2=\"285.0\"/><line stroke=\"darkslategray\" stroke-width=\"2.0\" x1=\"139.5\" y1=\"45.0\" x2=\"139.5\" y2=\"285.0\"/><line stroke=\"darkslategray\" stroke-width=\"1.6666666666666667\" x1=\"176.0\" y1=\"45.0\" x2=\"176.0\" y2=\"285.0\"/><line stroke=\"darkslategray\" stroke-width=\"1.3333333333333335\" x1=\"211.83333333333334\" y1=\"45.0\" x2=\"211.83333333333334\" y2=\"285.0\"/><circle fill=\"chocolate\" stroke=\"darkslategray\" stroke-width=\"2\" cx=\"30.0\" cy=\"82.5\" r=\"12\"/><text font-family=\"Lato\" font-size=\"15\" font-weight=\"bold\" fill=\"white\" text-anchor=\"middle\" alignment-baseline=\"central\" x=\"30.0\" y=\"82.5\">A</text><circle fill=\"dodgerblue\" stroke=\"darkslategray\" stroke-width=\"2\" cx=\"66.5\" cy=\"82.5\" r=\"12\"/><text font-family=\"Lato\" font-size=\"15\" font-weight=\"bold\" fill=\"white\" text-anchor=\"middle\" alignment-baseline=\"central\" x=\"66.5\" y=\"82.5\">D</text><circle fill=\"dodgerblue\" stroke=\"darkslategray\" stroke-width=\"2\" cx=\"103.0\" cy=\"82.5\" r=\"12\"/><text font-family=\"Lato\" font-size=\"15\" font-weight=\"bold\" fill=\"white\" text-anchor=\"middle\" alignment-baseline=\"central\" x=\"103.0\" y=\"82.5\">G</text><circle fill=\"dodgerblue\" stroke=\"darkslategray\" stroke-width=\"2\" cx=\"139.5\" cy=\"82.5\" r=\"12\"/><text font-family=\"Lato\" font-size=\"15\" font-weight=\"bold\" fill=\"white\" text-anchor=\"middle\" alignment-baseline=\"central\" x=\"139.5\" y=\"82.5\">C</text><circle fill=\"dodgerblue\" stroke=\"darkslategray\" stroke-width=\"2\" cx=\"176.0\" cy=\"82.5\" r=\"12\"/><text font-family=\"Lato\" font-size=\"15\" font-weight=\"bold\" fill=\"white\" text-anchor=\"middle\" alignment-baseline=\"central\" x=\"176.0\" y=\"82.5\">E</text><circle fill=\"chocolate\" stroke=\"darkslategray\" stroke-width=\"2\" cx=\"212.5\" cy=\"82.5\" r=\"12\"/><text font-family=\"Lato\" font-size=\"15\" font-weight=\"bold\" fill=\"white\" text-anchor=\"middle\" alignment-baseline=\"central\" x=\"212.5\" y=\"82.5\">A</text><circle fill=\"dodgerblue\" stroke=\"darkslategray\" stroke-width=\"2\" cx=\"30.0\" cy=\"247.5\" r=\"12\"/><text font-family=\"Lato\" font-size=\"15\" font-weight=\"bold\" fill=\"white\" text-anchor=\"middle\" alignment-baseline=\"central\" x=\"30.0\" y=\"247.5\">C</text><circle fill=\"dodgerblue\" stroke=\"darkslategray\" stroke-width=\"2\" cx=\"66.5\" cy=\"192.5\" r=\"12\"/><text font-family=\"Lato\" font-size=\"15\" font-weight=\"bold\" fill=\"white\" text-anchor=\"middle\" alignment-baseline=\"central\" x=\"66.5\" y=\"192.5\">E</text><circle fill=\"chocolate\" stroke=\"darkslategray\" stroke-width=\"2\" cx=\"103.0\" cy=\"192.5\" r=\"12\"/><text font-family=\"Lato\" font-size=\"15\" font-weight=\"bold\" fill=\"white\" text-anchor=\"middle\" alignment-baseline=\"central\" x=\"103.0\" y=\"192.5\">A</text><circle fill=\"dodgerblue\" stroke=\"darkslategray\" stroke-width=\"2\" cx=\"139.5\" cy=\"192.5\" r=\"12\"/><text font-family=\"Lato\" font-size=\"15\" font-weight=\"bold\" fill=\"white\" text-anchor=\"middle\" alignment-baseline=\"central\" x=\"139.5\" y=\"192.5\">D</text><circle fill=\"dodgerblue\" stroke=\"darkslategray\" stroke-width=\"2\" cx=\"176.0\" cy=\"247.5\" r=\"12\"/><text font-family=\"Lato\" font-size=\"15\" font-weight=\"bold\" fill=\"white\" text-anchor=\"middle\" alignment-baseline=\"central\" x=\"176.0\" y=\"247.5\">G</text><circle fill=\"dodgerblue\" stroke=\"darkslategray\" stroke-width=\"2\" cx=\"212.5\" cy=\"247.5\" r=\"12\"/><text font-family=\"Lato\" font-size=\"15\" font-weight=\"bold\" fill=\"white\" text-anchor=\"middle\" alignment-baseline=\"central\" x=\"212.5\" y=\"247.5\">C</text></svg>"
      ],
      "text/plain": [
       "<IPython.core.display.SVG object>"
      ]
     },
     "metadata": {},
     "output_type": "display_data"
    }
   ],
   "source": [
    "fb = fretboard.Fretboard(frets=(5, 8), style={'marker': {'color': 'dodgerblue'}})\n",
    "fb.add_marker(string=0, fret=5, label='A', color='chocolate')\n",
    "fb.add_marker(string=1, fret=5, label='D')\n",
    "fb.add_marker(string=2, fret=5, label='G')\n",
    "fb.add_marker(string=3, fret=5, label='C')\n",
    "fb.add_marker(string=4, fret=5, label='E')\n",
    "fb.add_marker(string=5, fret=5, label='A', color='chocolate')\n",
    "\n",
    "fb.add_marker(string=0, fret=8, label='C')\n",
    "fb.add_marker(string=1, fret=7, label='E')\n",
    "fb.add_marker(string=2, fret=7, label='A', color='chocolate')\n",
    "fb.add_marker(string=3, fret=7, label='D')\n",
    "fb.add_marker(string=4, fret=8, label='G')\n",
    "fb.add_marker(string=5, fret=8, label='C')\n",
    "\n",
    "show(fb)"
   ]
  },
  {
   "cell_type": "code",
   "execution_count": null,
   "id": "4f3b60ff",
   "metadata": {},
   "outputs": [],
   "source": []
  }
 ],
 "metadata": {
  "kernelspec": {
   "display_name": "Python 3 (ipykernel)",
   "language": "python",
   "name": "python3"
  },
  "language_info": {
   "codemirror_mode": {
    "name": "ipython",
    "version": 3
   },
   "file_extension": ".py",
   "mimetype": "text/x-python",
   "name": "python",
   "nbconvert_exporter": "python",
   "pygments_lexer": "ipython3",
   "version": "3.9.5"
  }
 },
 "nbformat": 4,
 "nbformat_minor": 5
}
